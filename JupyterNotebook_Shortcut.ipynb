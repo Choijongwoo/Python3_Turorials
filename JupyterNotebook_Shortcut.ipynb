{
  "cells": [
    {
      "metadata": {
        "collapsed": true
      },
      "cell_type": "markdown",
      "source": [
        "# jupyter notobook 단축키\n",
        "\n",
        "* **`enter`** :  편집모드로 변경, **`ESC`** : command mode로 변경\n",
        "* **`Shift-Enter`** : 현재 cell 실행 후 다음 cell로 이동\n",
        "* **`Ctrl-Enter`** : 현재 cell실행 \n",
        "* **`m`** : 현재 cell을 markdown으로 변경, **`y`** : 현재 cell을 code로 변경\n",
        "* **`shift+ctrl+-`** : split cell at cursor\n",
        "* **`k`** : 바로 위의 cell로 이동, **`j`** : 바로 아래의 cell로 이동\n",
        "* **`a`** : 바로 위에 cell 삽입, **`b`** : 바로 아래에 cell 삽입\n",
        "* **`c`** : copy cell, **`x`** : cut cell, **`v`** : paste cell below,  **`Shift-v`** : paste cell above\n",
        "* **`dd`** : 현재 cell 삭제\n",
        "* **`l(소문자 엘)`** : toggle line numbers\n",
        "* **`h`** : 단축키 보기"
      ]
    },
    {
      "cell_type": "markdown",
      "metadata": {},
      "source": [
        "vs code에서"
      ]
    },
    {
      "cell_type": "code",
      "execution_count": 1,
      "metadata": {
        "tags": []
      },
      "outputs": [
        {
          "output_type": "stream",
          "name": "stdout",
          "text": "3\n"
        }
      ],
      "source": [
        "print(3)"
      ]
    }
  ],
  "metadata": {
    "kernelspec": {
      "name": "python_defaultSpec_1594886248420",
      "display_name": "Python 3.7.3 64-bit",
      "language": "python"
    },
    "language_info": {
      "mimetype": "text/x-python",
      "nbconvert_exporter": "python",
      "name": "python",
      "pygments_lexer": "ipython3",
      "version": "3.7.3-final",
      "file_extension": ".py",
      "codemirror_mode": {
        "version": 3,
        "name": "ipython"
      }
    }
  },
  "nbformat": 4,
  "nbformat_minor": 2
}