{
  "cells": [
    {
      "metadata": {
        "collapsed": true
      },
      "cell_type": "markdown",
      "source": "# [python 소개 google slide](https://docs.google.com/presentation/d/10agKoZv3k1c5wRmBVDGUHE5MqiE5zYvU-v1cScCX8XY/edit?usp=sharing)  \n\n공식사이트(http://www.pythong.org)  \nversion : 2.X 3.X(호환안됨, 가급적 3.X 사용하기를 추천)  \n\n\n컴퓨터 과학자에게 가장 중요한 스킬을 꼽으라면 <font color=blue><b>문제 해결</b></font>이다.  \n문제 해결은 문제를 정의하고, 해법을 창의적으로 생각해내고, 해법을 명확하고 정확하게 표현하는 능력을 뜻한다.   \n_프로그램 작성법을 배우는 과정이 문제 해결 능력을 키우는 훌륭한 기회를 제공_한다  \n\n**프로그램 작성법**을 배우게 될 것이고, 이 <font color=red>**자체로도 유용한 기술**</font>이다.   \n하지만 다른 한편으로는 프로그래밍을 목표에 도달하는 수단으로 사용하는 것이다.   "
    },
    {
      "metadata": {},
      "cell_type": "markdown",
      "source": "## 1.1 프로그램은 무엇인가?\n\n프로그램은 계산을 어떻게 수행할지 지시하는 명령어들이다.   \n이러한 계산은 연립 방정식을 풀거나 다항식의 근을 찾는 등 수학적인 계산일 수도 있지만, 문서에서 텍스트를 검색해서 치환하는 것 또는 이미지 처리나 비디오를 재생하는 그래픽 계산 같은 기호 계산(symbolic computation)일 수도 있다.  \n\n상세한 표현은 다양한 프로그래밍 언어에 따라 다르지만, 몇 가지 기본 명령은 모든 언어에 반드시 등장한다.  \n\n+ **입력**  \n키보드, 파일, 네트워크, 또는 다른 기기에서 데이터를 가져온다.\n+ **출력**  \n스크린에 데이터를 표시하기, 파일에 데이터를 저장하기, 데이터를 네트워크로 전송하기 등\n+ **수학(연산)**  \n덧셈, 곱셈 같은 기본 산술 연산을 수행한다.\n+ **조건 실행**  \n어떤 조건을 검사해서 적절한 코드를 실행한다.\n+ **반복**  \n어떤 동작을 반복해서 수행하며, 보통은 몇 가지 변형도 있다.\n\n믿기지 않겠지만, 여기에 소개한 것이 프로그래밍의 전부다.   \n지금까지 여러분이 사용한 프로그램이 얼마나 복잡하든 여기 소개한 것과 같은 명령들로 구성되어 있다.   \n따라서 프로그래밍이란 `크고 복잡한 작업(task)`을 `더 작은 부분 작업(subtask)`으로 나누고 나눠서 기본 명령어로 수행할 정도로 간단한 작업으로 나누는 과정이다."
    },
    {
      "metadata": {},
      "cell_type": "markdown",
      "source": "## 1.2 파이썬 실행하기\n\n### 설치\n> 1.기본 idle  (http://www.python.org/download)   \n> 2.anaconda jupyter notebook  (https://www.anaconda.com/download/)  \n> 3.microsoft azure  (https://notebooks.azure.com/) - 수업시간에 사용하는 main tool  \n> 4.google colaboratory (http://colab.research.google.com)   - 수업시간에 사용하는 main tool  \n\n### jupyter notebook  \n`웹 브라우저에서 Python/R 등의 코드와 문서를 같이 작성할 수 있는 개발 환경`. \n\n1. idle 환경  \n파이썬을 실행할 때 가장 처음 보는것이 idle 환경이다. 간단한 코드 실행 및 확인용  \n긴 프로그램 작성은 (거의) 불가능  \nEnter키를 치면 바로 결과 출력. 중간에 한글자라도 오타면 처음부터 다시 시작  \n\n2. iPython notebook  \nidle에서는 여러줄의 코드를 작성&실행이 어렵다.  \n그래서 여러 줄 단위 실행 및 결과 확인, 편집 유용성 등의 기능이 추가 된것이 iPython notebook  \n한 파일 내에서 쉽게 코드cell 단위로 실행할 수 있다는 점이 큰 장점  \n단 ipython은 python 전용  \n현재는 거의 사용하지 않는다  \n\n3. jupyter notebook  \nipython의 단점을 해결한것. \n다양한 언어(커널) 지원  \n웹환경  \n\n\n[사용법 기초(youtube)](https://www.youtube.com/watch?v=SLPo0o_HArs)  \n#### jupyter notobook 단축키\n1. `enter` :  편집모드로 변경, `ESC` : command mode로 변경\n2. `Shift-Enter` : 현재 cell 실행 후 다음 cell로 이동\n3. `Ctrl-Enter` : 현재 cell실행 \n4. `m` : 현재 cell을 markdown으로 변경, `y` : 현재 cell을 code로 변경\n5. `k` : 바로 위의 cell로 이동, `j` : 바로 아래의 cell로 이동\n6. `a` : 바로 위에 cell 삽입, `b` : 바로 아래에 cell 삽입\n7. `x` : cell 잘라내기, `c` : cell 복사, `Shift-v` : 바로위에 cell 붙여넣기, `v` : 바로아래ㅇ\n7. `dd` : 현재 cell 삭제\n8. `x` : cut cell,  `c` : copy cell,   `v` : paste cell below,  `Shift-v` : paste cell above\n9. `l(소문자 엘)` : toggle line numbers\n10. `h` : 단축키 보기  \n\n#### markdown 문법\nclassroom에 올려둔 노트북파일 다운로드 후 본인의 azure나 google colab에 업로드 후 확인  \n"
    },
    {
      "metadata": {
        "trusted": true
      },
      "cell_type": "code",
      "source": "# idle 또는 주피터에서 다음을 입력하고 실행시켜보자\n\n1+1",
      "execution_count": null,
      "outputs": []
    },
    {
      "metadata": {},
      "cell_type": "markdown",
      "source": "## 1.3 첫 번째 프로그램\n\n전통적으로 새로운 언어로 작성하는 첫 번째 프로그램을 “Hello, World!”라고 하는데, 이 프로그램이 하는 역할이 “Hello, World!”를 표시하는 게 전부이기 때문이다. 파이썬에서는 다음과 같이 작성하면 된다.\n\n> print('Hello, World!')\n\n이 코드는 print 문을 사용하는 예제지만, 그렇다고 종이에 뭔가를 정말로 프린트(인쇄)하지는 않는다. 화면에 결과를 표시할 뿐이다. 이런 경우에 화면에 표시되는 결과는 단어다.\n\nHello, World!\n\n프로그램에서 작은따옴표(')는 화면에 표시할 텍스트의 시작과 끝을 표시하는 용도이므로 실행 결과에는 표시되지 않는다.\n\nprint에 사용된 괄호 ()는 함수를 뜻한다. 함수에 대해서는 3장에서 살펴볼 것이다."
    },
    {
      "metadata": {
        "trusted": true
      },
      "cell_type": "code",
      "source": "print('hello world!')",
      "execution_count": null,
      "outputs": []
    },
    {
      "metadata": {},
      "cell_type": "markdown",
      "source": "## 1.4 산술 연산자(arithmetic operator)"
    },
    {
      "metadata": {
        "trusted": true
      },
      "cell_type": "code",
      "source": "1-1",
      "execution_count": null,
      "outputs": []
    },
    {
      "metadata": {
        "trusted": true
      },
      "cell_type": "code",
      "source": "2*2",
      "execution_count": null,
      "outputs": []
    },
    {
      "metadata": {
        "trusted": true
      },
      "cell_type": "code",
      "source": "4/2",
      "execution_count": null,
      "outputs": []
    },
    {
      "metadata": {
        "trusted": true
      },
      "cell_type": "code",
      "source": "3**3+2",
      "execution_count": null,
      "outputs": []
    },
    {
      "metadata": {
        "trusted": true
      },
      "cell_type": "code",
      "source": "3%2",
      "execution_count": null,
      "outputs": []
    },
    {
      "metadata": {},
      "cell_type": "markdown",
      "source": "## 1.5 값(value)과 타입(type)  \n\n값은 문자나 숫자 같은 것으로 프로그램이 동작하는 기본 요소 중에 하나다.  \n지금까지 우리가 본 `2, 42.0, 'Hello, World!'`가 값이다.\n\n이러한 값에는 다양한 타입이 있다.   \n2는 정수(integer)  \n42.0은 실수(floating-point number)  \n'Hello, World!'는 문자열(string)  \n등등 \n\n어떤 값이 어떤 타입인지 확인하기 위해서 **`type()`** 을 사용한다.  "
    },
    {
      "metadata": {
        "trusted": true
      },
      "cell_type": "code",
      "source": "type(3)",
      "execution_count": null,
      "outputs": []
    },
    {
      "metadata": {
        "trusted": true
      },
      "cell_type": "code",
      "source": "type(3.0)",
      "execution_count": null,
      "outputs": []
    },
    {
      "metadata": {
        "trusted": true
      },
      "cell_type": "code",
      "source": "type('hafs')",
      "execution_count": null,
      "outputs": []
    },
    {
      "metadata": {},
      "cell_type": "markdown",
      "source": "## 연습문제  \n\n1. print를 사용할 때 ()를 빼면 어떻게 될까? 둘중에 하나만 빼면 어떻게 될까?  \n> print 3  \n> print (3  \n> print 3)  \n2. 문자열을 출력할 때 따옴표를 없애면 어떻게 될까? 둘중에 하나만 없애면 어떻게 될까?  \n> print(hafs)  \n> print('hafs)  \n> print(hafs')  \n3. 음수는 -를 붙인다. 양수에 + 를 붙이면 어떻게 될까? 다음의 결과를 예상해 보고 실행한 다음 예상과 비교해보자  \n> 2++2  \n> +2+2  \n> -2+2  \n> -2-2  \n> 2--2  \n> 2+-2  \n> 2-+2   \n\n<font color=red>실제 프로그램에서는 위의 경우처럼 사용하지 않는다.(사용하지 말것!!)</font>  \n\n4. 두 값 사이에 연산자가 없다면 어떻게 될까?  \n> 2 5  \n> 'hafs' 'hafs'"
    }
  ],
  "metadata": {
    "kernelspec": {
      "name": "python36",
      "display_name": "Python 3.6",
      "language": "python"
    },
    "language_info": {
      "mimetype": "text/x-python",
      "nbconvert_exporter": "python",
      "name": "python",
      "pygments_lexer": "ipython3",
      "version": "3.6.6",
      "file_extension": ".py",
      "codemirror_mode": {
        "version": 3,
        "name": "ipython"
      }
    }
  },
  "nbformat": 4,
  "nbformat_minor": 2
}