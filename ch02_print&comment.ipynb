{
  "cells": [
    {
      "metadata": {
        "collapsed": true
      },
      "cell_type": "markdown",
      "source": "## C의 print문\n<pre>\n#include <stdio.h>\n \nvoid main(void)  {\n    printf(\"Hello, World\");\n}\n</pre>  \n\n##  JAVA의 print문\n<pre>\npublic class HelloWorld {\n\n    public static void main(String[] args) {\n        System.out.println(\"Hello, World\");\n    }\n\n}\n</pre>  \n\n##  Python의 print 문  \n<pre>\nprint(“Hello, World”)\n</pre>\n\n<hr>  \n\n<font size=6 color=red><b> Life is too short, You need Python!! </b></font>"
    },
    {
      "metadata": {},
      "cell_type": "markdown",
      "source": "## 주석(Comment)\n`#`으로 시작해서 끝까지는 주석처리된다. 즉 `실제 코드가 아니라 사람이 읽는 도움말`이다.  "
    },
    {
      "metadata": {
        "trusted": true
      },
      "cell_type": "code",
      "source": "# 이 줄은 코멘트 입니다\n\nprint('hello world')\nprint('hafs') # 여기서 부터 끝까지 주석입니다.",
      "execution_count": null,
      "outputs": []
    },
    {
      "metadata": {},
      "cell_type": "markdown",
      "source": "## 주석의 중요성 \n\n> 호랑이는 죽어서 ( ___________ ) 남기고  \n> 사람은 죽어서 ( ___________ ) 남기고  \n> 프로그래머는 죽어서( ___________  )을 남긴다  \n\n> 쉬지말고 <font color=blue><b>coding</b></font> 하라  \n> 범사에 <font color=red><b>comment</b></font> 하라"
    }
  ],
  "metadata": {
    "kernelspec": {
      "name": "python36",
      "display_name": "Python 3.6",
      "language": "python"
    },
    "language_info": {
      "mimetype": "text/x-python",
      "nbconvert_exporter": "python",
      "name": "python",
      "pygments_lexer": "ipython3",
      "version": "3.6.6",
      "file_extension": ".py",
      "codemirror_mode": {
        "version": 3,
        "name": "ipython"
      }
    }
  },
  "nbformat": 4,
  "nbformat_minor": 2
}