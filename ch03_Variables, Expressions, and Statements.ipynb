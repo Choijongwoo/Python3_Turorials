{
  "cells": [
    {
      "metadata": {
        "collapsed": true
      },
      "cell_type": "markdown",
      "source": "# Constants  vs  Variables-very important\n\n## Constants(Values)\n* **`Fixed values`** such as numbers, letters, and strings are called **`constants`** - because their value does not change.  \nex) 3, 3.1, 'hafs', 등등  \n* 모든 값은 타입(type)이 있다.  타입은 프로그래밍언어에서 아주 중요한 부분이다.  \n* 값의 종류(type)란 결국 어떤 프로그래밍언어가 다룰 수 있는 데이터의 종류이다.  \n* 언어마다 다르며 그 언어의 identity를 결정하는 중요한 요소이다.  \n* 특히 python은 다른 언어에 비해 특징적인 자료형(type)이 많고 이 것이 python의 특징이기도 하다.  \nex) list, tuple, dictionary 등  \n\n## Variables\n* A variable is **`a named place in the memory`** where a programmer can store data and later retrieve the data using the variable “name”  \n즉 variable(변수)는 숫자가 아니라 값을 저장하기 위한 공간의 이름이다.  \n* varialbe naming rule\n> 1. Must start with a `letter` or `underscore(_)`   \n> 2. Must consist of `letters` and `numbers` and `underscores`  \n> 3. Case Sensitive(대소문자 구별)  \n\n* examples  \n>  spam, eggs, spam23, _speed : **OK**  \n>  23spam, #sighn, var.12 : **Not OK**  \n>  spam, Spam, SPAM : **Diffrent**  \n\n* 다음 변수에 대해서 생각해 보자.  \n> <font color=red>jfdkaljfldas=150</font> 과 <font color=blue>myiq=150</font>  \n>  <br>\n> <font color=red>asdf=12</font>                \n> <font color=red>qwer=8000</font>           \n> <font color=red>asdfqwer=asdf```*```qwer</font>   \n> <br>\n> <font color=blue> hours=12  </font>   \n> <font color=blue>   rate=8000  </font>    \n> <font color=blue>  pay=hours```*```rate  </font> \n\n* 예약어(reserved words)는 변수명으로 사용할 수 없다. \n> 자주 사용하다보면 자연스레 알게 되므로 예약어를 외울 필요는 없다.  \n> Python3의 예약어는 33 개  \n> ['False', 'None', 'True', 'and', 'as', 'assert', 'break', 'class', 'continue', 'def', 'del', 'elif', 'else', 'except', 'finally', 'for', 'from', 'global', 'if', 'import', 'in', 'is', 'lambda', 'nonlocal', 'not', 'or', 'pass', 'raise', 'return', 'try', 'while', 'with', 'yield']  \n> 주피터노트북에서는 예약어가 <font color=green>초록색</font>으로 보인다"
    },
    {
      "metadata": {
        "trusted": true
      },
      "cell_type": "code",
      "source": "# constants(values) \n\nprint(-4, 3, 3.14, 2j+3)\nprint(\"hafs\",\"Life is too short, You need python\")\nprint(True, False, 'True', 'False')",
      "execution_count": null,
      "outputs": []
    },
    {
      "metadata": {
        "trusted": true
      },
      "cell_type": "code",
      "source": "# varialbes\n\nx=1\ny=4\nprint('x+y=',x+y)\n\nz=x+y\nx=5\n\nprint('x=',x,'y=',y,'z=',z)\n",
      "execution_count": null,
      "outputs": []
    },
    {
      "metadata": {
        "trusted": true
      },
      "cell_type": "code",
      "source": "#예약어 출력\nimport keyword\n\nprint(len(keyword.kwlist),\"개\")\nprint(keyword.kwlist)",
      "execution_count": null,
      "outputs": []
    },
    {
      "metadata": {
        "collapsed": true
      },
      "cell_type": "markdown",
      "source": "# 할당문(assignment)\n\n할당문(assignment statement)은 새 변수를 생성하고, 값을 할당한다.  \n\n> message = 'And now for something completely different'  \n> n = 17  \n> pi = 3.141592653589793  \n\n이 예제에서는 할당을 세 번 하고 있다.   \n첫 번째는 변수 message에 문자열을 할당하고,   \n두 번째는 n에 17을 할당하고,   \n세 번째는 pi에 (근사)값 파이(π)를 할당하고 있다.  \n\n할당문은 다음과 같이 사용한다.  \n> 저장공간(variable) = 값  \n\n`=`는 `equal `의 의미가 아니라 `assignment`  \n\n= 오른쪽 부분의 계산을 먼저 하고 그 결과를 =의 왼쪽 공간(변수)에 할당한다.  \n>  x=1  \n>  x=3+x+(x-1)  \n> print(x) 의 결과는 얼마일까?"
    },
    {
      "metadata": {
        "trusted": true
      },
      "cell_type": "code",
      "source": "# name 에 자신의 이름을 할당하고 출력해 보자\n\nname='Jongwoo Choi' # 따옴표가 빠지면? '' 나 \"\" 차이가 있는가?\nprint(name)  \n\n# 3개 과목에 점수를 할당하고 평균점수를 구해보자\nkor=99\neng=90.1\nmath=95\ncount=3\n\nprint((kor+eng+math)/3)\nprint((kor+eng+math)/count)",
      "execution_count": null,
      "outputs": []
    },
    {
      "metadata": {
        "collapsed": true
      },
      "cell_type": "markdown",
      "source": "# 표현식과 문장(expression, statement)\n\n* **표현식(expression)**  : 값, 변수, 연산자의 조합이다. 값은 그 자체로 표현식이고, 변수도 그렇다. 따라서 다음은 모두 올바른 표현식이다.  \n\n~~~\n>>>는 python idle의 prompt 이다\n\n>>> 42\n42\n>>> n \n17\n>>> n + 25 \n42\n\n\n프롬프트에 표현식을 입력하면 인터프리터는 표현식을 평가한다.   \n평가한다는 건 표현식의 값을 알아낸다는 뜻이다. 이 예제에서 n의 값은 17이므로 n + 25는 값 42가 된다.\n~~~\n\n\n* **문장(statement)** : 변수를 생성하거나 값을 표시하는 코드의 단위  \n\n~~~\n>>> n = 17\n>>> print(n)\n\n\n첫째 줄은 n에 값을 지정하는 할당문(assignment statement)이다. \n둘째 줄은 n의 값을 표시하는 print 문이다.\n문장을 입력하면 인터프리터는 문장을 실행한다. 실행한다는 건 문장이 지시하는 대로 실행한다는 뜻이다. \n일반적으로 문장은 값을 갖지 않는다.\n~~~"
    },
    {
      "metadata": {
        "collapsed": true
      },
      "cell_type": "markdown",
      "source": "# 스크립트모드(script)\n\n* **interactive mode vs script mode** \n\ninteractive mode는 Enter키를 치면 바로 결과출력. 이 모드는 시작하기에 좋은 방법이지만, 긴 코드를 작성하기는 사실상 불가능  \n\n이를 해결하는 방법은 스크립트( 모드(script mode)로 실행하는 것이다. 파이썬 스크립트 파일 이름은 .py로 끝난다.  \n\n파이썬은 두 가지 모드를 지원하므로 상호작용 모드에서 코드를 테스트한 다음에 스크립트로 옮길 수 있다.  \n그러나 상호작용 모드와 스크립트 모드 사이에는 헷갈릴 수 있는 차이점이 있으니 주의하자.\n\n~~~\ninteractive mode에서는 \n\n>>> miles = 26.2\n>>> miles * 1.61 \n42.182\n~~~\n\n첫째 줄은 miles에 값을 할당하지만, 눈에 보이는 결과는 없다. 둘째 줄은 표현식이므로 인터프리터는 값을 평가하고 결과를 화면에 표시한다. 마라톤은 약 42킬로미터라는 것을 보여준다.\n\n~~~\nscript mode에서는 \n\nmiles = 26.2\nmiles * 1.61 \n~~~\n그런데 이 코드를 스크립트에 입력하고 실행한다면 어떤 것도 출력되지 않는다. 스크립트 모드에서 표현식 그 자체는 눈에 보이는 결과가 없다. 파이썬은 실제로 표현식을 평가하지만, 출력하라고 지시하지 않으면 평가한 값을 표시하지 않는다.\n~~~\nmiles = 26.2  \nprint(miles * 1.61)\n~~~\n스크립트는 일반적으로 차례차례 나열된 문장들을 담고 있다. 둘 이상의 문장이 있다면 결과는 문장이 실행되면서 한 번에 하나가 표시된다.\n\n예를 들어 스크립트\n~~~\nprint(1) \nx = 2 \nprint(x)\n~~~\n는 다음 결과를 생성한다.\n~~~\n1\n2\n~~~\n할당문은 출력을 생성하지 않는다.\n\n이해하고 있는지 확인하기 위해 파이썬 인터프리터에 다음 문장들을 입력하고 문장들이 무엇을 하는지 보라.\n~~~\n5\nx = 5\nx + 1\n~~~\n같은 문장을 스크립트에 넣고 실행해보라. 무엇이 출력되는가? 스크립트를 고쳐서 각 표현식을 print 문에 넣고 다시 실행해보라.\n\n* jupyter notebook 에서 interactive mode와 script 모드의 차이  \ncell 에서 어떤 값을 치고 실행(Shift-enter)해보고, print(값)으로 실행해서 차이를 비교해보자  \n\n\n### 결론적으로 jupyter notebook 을 사용하면 위의 두 모드를 모두 사용할 수 있으므로 두 모드의 특징만 이해한다면 jupyter notebook을 사용하는것이 여러면에서 편리하고 강력하고 유리하다."
    },
    {
      "metadata": {
        "trusted": true
      },
      "cell_type": "code",
      "source": "3",
      "execution_count": null,
      "outputs": []
    },
    {
      "metadata": {
        "trusted": true
      },
      "cell_type": "code",
      "source": "print(3)",
      "execution_count": null,
      "outputs": []
    },
    {
      "metadata": {
        "collapsed": true
      },
      "cell_type": "markdown",
      "source": "# Numeric Expressions\n수식계산방식은 일반적으로 수학과 동일하다.  많이 사용하는 연산자(Operator)는 다음과 같다.  \n* 사칙연산 : +, -, *(multiplication), /(Division)  \n> 3+4, 3-4, 3*4, 3/4  \n* 몫 : //  \n> 4//3\n* 거듭제곱 : **\n> 2 ** 3\n* 나머지(Remainder) : %\n> 3%2"
    },
    {
      "metadata": {
        "trusted": true
      },
      "cell_type": "code",
      "source": "sum=3+4\nsub=3-4\nmul=3*4\ndiv=4/3\npower=2**3\nquotient=4//3\nremainder=4%3\n\nprint(sum, sub, mul, div, power, quotient, remainder)",
      "execution_count": 56,
      "outputs": [
        {
          "output_type": "stream",
          "text": "7 -1 12 1.3333333333333333 8 1 1\n",
          "name": "stdout"
        }
      ]
    },
    {
      "metadata": {
        "collapsed": true
      },
      "cell_type": "markdown",
      "source": "# 연산순서(operator precedence)\n표현식에 연산자가 두 개 이상이라면 평가 순서는 연산 순서(order of operations)를 따른다.  \n수학 연산자와 마찬가지로 파이썬은 수학의 관례를 따른다.  \n\n우선순위가 높은 순서대로 나열하면 다음과 같다.  \n> 괄호(())  \n> 거듭제곱( ** )  \n> 곱셈, 나눗셈, 나머지연산(%)  \n> 더하기, 빼기  \n> 같은 순위일때는 좌->우  \n\n<font color=red><b> 결론 : 괄호를 사용하라 </b></font>"
    },
    {
      "metadata": {
        "trusted": true
      },
      "cell_type": "code",
      "source": "# 다음 연산의 결과는 얼마일까?\n\nx= 1+2**3/4*5\nprint(x)",
      "execution_count": null,
      "outputs": []
    },
    {
      "metadata": {
        "trusted": true
      },
      "cell_type": "code",
      "source": "# 다음 연산의 결과는 얼마일까?\n# 괄호가 어떤 역할을 하는지 느껴보라\n\nx= 1+2**3/4*5\nprint(x)\n\nx= 1+((2**3)/4)*5\nprint(x)",
      "execution_count": null,
      "outputs": []
    },
    {
      "metadata": {
        "collapsed": true
      },
      "cell_type": "markdown",
      "source": "# 문자열연산(string operation)\n일반적으로 문자열에는 수학 연산을 할 수 없다. 문자열이 숫자와 닮아 보여도 다음처럼 쓸 수 없다.\n\n'2'-'1'   \n'eggs'/'easy'    \n'third'*'a charm'\n\n하지만 두 가지 예외가 있는데 + 와 * 이다.\n\n* `+` 연산자는 문자열을 연결한다. 즉, 문자열들을 한 줄로 연결해서 결합한다. 예를 보자.\n~~~\nfirst = 'Life is'\nsecond = ' too short.'\nprint(first + second)\nLife is too short.\n~~~\n\n* `*` 연산자도 문자열에서 동작한다.   문자열에서 `*` 은 반복을 처리한다.   \n예를 들어 'Spam'`*`3은 'SpamSpamSpam'이 된다. "
    },
    {
      "metadata": {
        "collapsed": true
      },
      "cell_type": "markdown",
      "source": "# 연습문제\n\n1. n = 42는 올바르다면 42 = n은 어떻게 될까?    \n> n=42  \n> 42=n\n2. x = y = 1은 어떻게 될까?  \n> x=y=1  \n> print(x,y)\n3. 어떤 프로그래밍 언어는 모든 문장이 세미콜론(;)으로 끝나야 한다. 파이썬 문장의 끝에 세미콜론을 넣으면 무슨 일이 일어날까?  \n> name='jongwoo'; \n4.  수학 표기법에서 x와 y의 곱셈은 xy로 쓸 수 있다. 파이썬에서 이렇게 하면 어떻게 될까?  \n> x=2  \n> y=3  \n> print(xy)  \n5. 어떤 책의 가격이 220,000원일 때 여기에는 부가세 10%가 포함되어 있다. 즉 200,000원의 책값 + 부가세 20,000 이 진짜 책값이다. 값과 세금을 구하라.\n"
    },
    {
      "metadata": {
        "trusted": true
      },
      "cell_type": "code",
      "source": "price=220000\n\nv=round(price/1.1)\ntax=price-v\nprint(v,tax)\n\n",
      "execution_count": null,
      "outputs": []
    }
  ],
  "metadata": {
    "kernelspec": {
      "name": "python36",
      "display_name": "Python 3.6",
      "language": "python"
    },
    "language_info": {
      "mimetype": "text/x-python",
      "nbconvert_exporter": "python",
      "name": "python",
      "pygments_lexer": "ipython3",
      "version": "3.6.6",
      "file_extension": ".py",
      "codemirror_mode": {
        "version": 3,
        "name": "ipython"
      }
    }
  },
  "nbformat": 4,
  "nbformat_minor": 2
}