{
  "cells": [
    {
      "metadata": {
        "collapsed": true
      },
      "cell_type": "markdown",
      "source": "# What is a (Data) Type?\n자료형이란 프로그래밍을 할 때 쓰이는 숫자, 문자열등의 자료 형태로 사용하는 그 모든 것을 뜻한다.   \n**프로그램의 가장 기본이 되고 핵심적인 단위가 되는 것이 바로 자료형이다.**   \n따라서 자료형을 충분히 이해하지 않고 프로그래밍을 시작하려는 것은 기초 공사가 마무리되지 않은 상태에서 빌딩을 세우는 것과 같다.   \n프로그래밍 언어를 배울 때 \"그 언어의 자료형을 알게 된다면 이미 그 언어의 절반을 터득한 것이나 다름없다\" 라는 말이 있다.   \n자료형은 가장 기초가 되는 중요한 부분이니 주의를 기울여 자세히 살펴보도록 하자.  \n<br>\n<font color=red>각 프로그래밍언어의 identity를 결정하는 중요한 요소가 바로 그 언어가 사용하는(다루는, 처리하는) Data의 종류!!</font>"
    },
    {
      "metadata": {
        "collapsed": true
      },
      "cell_type": "markdown",
      "source": "## 1. Types\ntype을 확인하는 방법은 type(값) \n\n* 숫자(Number)\n* 문자열(String)\n* 리스트(List)\n* 튜플(Tuple)\n* 딕셔너리(Dictionary)\n* 집합(Set)\n* Boolean(True, False)\n* 변수(Variable)"
    },
    {
      "metadata": {
        "collapsed": true
      },
      "cell_type": "markdown",
      "source": "## 2. Number\n* 정수(int) : -1, 0, 1, 123 ......\n* 실수(float) : 1.1, -3.2, ........\n* 복소수(complex) : 2j+3\n\n(8진수, 16진수등은 type은 아니지만 처리가능)"
    },
    {
      "metadata": {
        "collapsed": true
      },
      "cell_type": "markdown",
      "source": "###### 3. String\n* '' 또는 \"\" 로 감싼 문자열  \n> 'hafs', \"JongwooChoi\"  \n* 여러줄을 입력 모습 그대로 저장할 때는 ''' ''' 또는 \"\"\" \"\"\"  \n> <pre>'''\nfirst line\nsecond line\n'''\n</pre>\n* index, slicing이 중요  \n>~~~\nname='123456'\nprint(name[0], name[1], name[-1], name[-2])\n>~~~\n* 스트링은 변경 불가능(immutalbe)\n>~~~\nname='JongkooChoi'\nname[4]='w'  # 스트링은 변경 불가능이므로 이런 코드는 오류 발생\n>~~~\n* 스트링의 길이를 구하는 함수 len()\n> 공백도 카운트  \n> print(len('hafs hafs'))\n* 문자열 + 문자열, 문자열 * 숫자 연산은 가능\n> python=\"Life\" + \"is too short\"\n> mystr=\"Wow\"*10"
    },
    {
      "metadata": {
        "trusted": true
      },
      "cell_type": "code",
      "source": "name='123456'\nprint(name[0], name[1], name[-1], name[-2])",
      "execution_count": null,
      "outputs": []
    },
    {
      "metadata": {
        "trusted": true
      },
      "cell_type": "code",
      "source": "name='JongkooChoi'\nname[4]='w'  # 스트링은 변경 불가능이므로 이런 코드는 오류 발생",
      "execution_count": null,
      "outputs": []
    },
    {
      "metadata": {
        "trusted": true
      },
      "cell_type": "code",
      "source": "python=\"Life\" + \" is too short\"\nprint(python)\nmystr=\"Wow\"*10\nprint(mystr)",
      "execution_count": null,
      "outputs": []
    },
    {
      "metadata": {
        "collapsed": true
      },
      "cell_type": "markdown",
      "source": "## 4. list, dictionary, tuple\npython에서 아주 중요한 위치를 차지하는 type.  \n나중에 자세하게 배울것임\n\n* list : []  \n* dictionary : { }\n* tuple : ()"
    },
    {
      "metadata": {
        "collapsed": true
      },
      "cell_type": "markdown",
      "source": "## 5. Set\n수학의 집합과 동일한 개념  \n> 중복을 허용하지 않는다.  \n> 순서가 없다.  \n\n~~~\ns1={1,2,3,4}\ns2={4,4,5}\nprint(s1)\nprint(s2)\nprint(s1&s2) # 교집합\nprint(s1 | s2) # 합집합\nprint(s1 - s2) # 차집합\n~~~\n"
    },
    {
      "metadata": {
        "trusted": true
      },
      "cell_type": "code",
      "source": "s1={1,2,3,4}\ns2={4,4,5}\nprint(s1)\nprint(s2)\nprint(s1&s2) # 교집합\nprint(s1 | s2) # 합집합\nprint(s1 - s2) # 차집합",
      "execution_count": null,
      "outputs": []
    },
    {
      "metadata": {
        "collapsed": true
      },
      "cell_type": "markdown",
      "source": "## 6. Boolean\n참(True), 거짓(False) - T,F는 대문자로 써야한다.  \ntrue, false라고 쓰면 reserved word가 아니라 `variable`이 된다.  \n\n다음을 모두 False이다.  \n1. None, False   \n2. Zero of any numeric type : 0, 0.0, 0j  \n3. empty sequences and collections : '', (), [], {}, set(), range(0)  \n\n\n* 특정 값이 있는 모든 data type은 True로 취급한다.  \n> 1,3, 3.1, 'hafs',{1,2}, [1,2], (1,2) .........\n* 특정 값이 없는 모든 data type은 False 로 취근한다.  \n> \"\", [], {}, ()\n* 0은 False, 나머지 모든 숫자는 True로 취급한다.  \n* None은 False로 취급한다.  \n\n### Boolean Operations - and, or, not\n\n* Truth Table  \nT `or` T -> T,  T `and` T -> T  \nT `or` F -> T,  T `and` F -> F  \nF `or` T -> T,  F `and` T -> F  \nF `or` F -> F, F `and` F -> F  \n\n### 비교연산자(Comparison operator)  \n~~~\n< : less than\n<= : less than or equal\n> : greater than\n>= : greater than or equal\n== : equal\n!= : not equal\nis : object identity\nis not : negated object identity\n~~~\n** <font color=red>프로그래밍에서 `=` 는 할당, `==`는 equal의 의미</font>**   \n** 비교연산자들은 동일한 priority를 가지며 논리연산자 보다 우선순위가 높다.** \n\n* Short-Circuit 방식  \n\nx or y  : if x is false, then y, else x  \n> print(1 or 3), print( 0 or 3), print(5 or 0)  \n\nx and y : if x is false, then x, else y  \n> print(1 and 3), print(0 and 3), print(5 and 0)  \n\nnot x  : if x is false, then True, else False  \n> print(not 3), print(not 0)  \n\n* not has a lower priority than non-boolean operators.  \n> `not a==b` is interpreted as not(a==b)  \n> `a == not b` is a syntax error"
    },
    {
      "metadata": {
        "trusted": true
      },
      "cell_type": "code",
      "source": "# short-circuit\nprint(\"or\")\nprint(1 or 3)\nprint( 0 or 3)\nprint(5 or 0)\n\nprint(\"and\")\nprint(1 and 3)\nprint( 0 and 3)\nprint(5 and 0)",
      "execution_count": 17,
      "outputs": [
        {
          "output_type": "stream",
          "text": "or\n1\n3\n5\nand\n3\n0\n0\n",
          "name": "stdout"
        }
      ]
    },
    {
      "metadata": {
        "trusted": true
      },
      "cell_type": "code",
      "source": "a==not b",
      "execution_count": 15,
      "outputs": [
        {
          "output_type": "error",
          "ename": "SyntaxError",
          "evalue": "invalid syntax (<ipython-input-15-f257a30a34f8>, line 1)",
          "traceback": [
            "\u001b[0;36m  File \u001b[0;32m\"<ipython-input-15-f257a30a34f8>\"\u001b[0;36m, line \u001b[0;32m1\u001b[0m\n\u001b[0;31m    a==not b\u001b[0m\n\u001b[0m         ^\u001b[0m\n\u001b[0;31mSyntaxError\u001b[0m\u001b[0;31m:\u001b[0m invalid syntax\n"
          ]
        }
      ]
    },
    {
      "metadata": {},
      "cell_type": "markdown",
      "source": "# 연습문제\n\n1.다음의 결과는 무엇이 될지 짐작해 보시오.  \n~~~\nif 5 : \n    print('True')\nelse : \n    print('False')\n~~~\n<hr>\n~~~\nif 0 : \n    print('True')\nelse : \n    print('False')\n~~~\n<hr>\n~~~\nif 'hafs' : \n    print('True')\nelse : \n    print('False')\n~~~\n<hr>\n~~~\nif '' : \n    print('True')\nelse : \n    print('False')\n~~~\n<hr>\n~~~\nif None : \n    print('True')\nelse : \n    print('False')\n~~~\n<hr>\n~~~\nif none : \n    print('True')\nelse : \n    print('False')\n~~~"
    }
  ],
  "metadata": {
    "kernelspec": {
      "name": "python36",
      "display_name": "Python 3.6",
      "language": "python"
    },
    "language_info": {
      "mimetype": "text/x-python",
      "nbconvert_exporter": "python",
      "name": "python",
      "pygments_lexer": "ipython3",
      "version": "3.6.6",
      "file_extension": ".py",
      "codemirror_mode": {
        "version": 3,
        "name": "ipython"
      }
    }
  },
  "nbformat": 4,
  "nbformat_minor": 2
}