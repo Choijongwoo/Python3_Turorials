{
  "cells": [
    {
      "metadata": {
        "collapsed": true
      },
      "cell_type": "markdown",
      "source": "# input함수\n* input([prompt]) : []는 option. 사용이 필수가 아님. \n>If the prompt argument is present, it is written to standard output without a trailing newline. The function then reads a line from input, converts it to a string (stripping a trailing newline), and returns that.  \n>사용자가 Enter키를 치기전까지의 타이핑 내용을 **`문자(string)`** 로 저장  \n>prompt를 사용하지 않아도 input()은 동작하지만 user는 무엇을 입력해야할지를 모름. prompt == some message"
    },
    {
      "metadata": {
        "trusted": true
      },
      "cell_type": "code",
      "source": "name=input()\nprint(name)",
      "execution_count": null,
      "outputs": []
    },
    {
      "metadata": {
        "trusted": true
      },
      "cell_type": "code",
      "source": "name=input(\"이름을 입력하세요 : \")\nprint(name)",
      "execution_count": null,
      "outputs": []
    },
    {
      "metadata": {
        "collapsed": true
      },
      "cell_type": "markdown",
      "source": "# 사용법\n## 1.숫자 한개 입력"
    },
    {
      "metadata": {
        "trusted": true
      },
      "cell_type": "code",
      "source": "# 정수, 실수 등을 입력해보자.\n\nnum=input('숫자 하나를 입력하세요 : ')\nprint(num)",
      "execution_count": null,
      "outputs": []
    },
    {
      "metadata": {
        "trusted": true
      },
      "cell_type": "code",
      "source": "# 입력값의 type은 뭘까?\n\nnum=input('숫자 하나를 입력하세요 : ')\nprint(num, type(num))",
      "execution_count": null,
      "outputs": []
    },
    {
      "metadata": {
        "trusted": true
      },
      "cell_type": "code",
      "source": "# python 3.X 의 input()은 모든 입력을 문자열로 받아들인다. 그러면 숫자를 입력하려면?\n\nnum=input('숫자 하나를 입력하세요 : ')\nprint(num, type(num))\n\nnum_int=int(input('정수 하나를 입력하세요 : '))\nprint(num_int, type(num_int))\n\nnum_float=float(input('실수 하나를 입력하세요 : '))\nprint(num_float, type(num_float))",
      "execution_count": null,
      "outputs": []
    },
    {
      "metadata": {},
      "cell_type": "markdown",
      "source": "### type conversion함수\nint(), float(), str(), list()등등 타입의 이름을 함수이름으로 쓰면 그 타입으로 변환시켜준다.  \n* int()  \n>`Return an nteger object` constructed from a number or string x, or return 0 if no arguments are given.  \n* float()  \n>`Return a floating point number` constructed from a number or string x."
    },
    {
      "metadata": {
        "trusted": true
      },
      "cell_type": "code",
      "source": "# 다음 실행결과를 보고 형변환 함수 int()에 대해 파악\n\nprint(int(3))\nprint(int(-3))\nprint(int(3.1))\nprint(int(\"3\"))\nprint(int(\"3.1\")) # 이문장은 왜 에러가 날까?",
      "execution_count": null,
      "outputs": []
    },
    {
      "metadata": {
        "trusted": true
      },
      "cell_type": "code",
      "source": "# 다음 실행결과를 보고 형변환 함수 float()에 대해 파악\n\nprint(float(3))\nprint(float(3.1))\nprint(float(\"3\"))\nprint(float(\"3.1\")) \nprint(str(3),type(str(3)))",
      "execution_count": null,
      "outputs": []
    },
    {
      "metadata": {
        "collapsed": true
      },
      "cell_type": "markdown",
      "source": "## 2. 숫자 여러개 입력"
    },
    {
      "metadata": {
        "trusted": true
      },
      "cell_type": "code",
      "source": "num_first=int(input('첫번째 정수를 입력하시오'))\nnum_second=int(input('두번째 정수를 입력하시오'))\n# 만약 10개의 정수를 입력 받으려면 위의 방법이 번거롭다.\n\n#split()을 사용해보자\nnum_first,num_second=input('두개의 정수를 입력하시오(space 사용) ').split()\nnum_first=int(num_first)\nnum_second=int(num_second)\n# 위의 방법도 매번 int()를 써야 한다.\n\n#map()을 사용해보자\nnum_first,num_second=map(int,input('두개의 정수를 입력하시오(space 사용) ').split())\nprint(num_first, num_second, type(num_first), type(num_first))",
      "execution_count": null,
      "outputs": []
    },
    {
      "metadata": {
        "trusted": true
      },
      "cell_type": "code",
      "source": "# python이 가지고 있는  built-in manual 을 보는 방법\n\nprint(dir(str)) # string 이 가지고 있는 요소를 확인\nhelp(str.split) # string 객체가 가지고 있는 함수(메소드)중에 split에 대한 설명\n\nprint(dir(list))\nhelp(list.append)\n\nhelp(map)",
      "execution_count": null,
      "outputs": []
    },
    {
      "metadata": {
        "collapsed": true
      },
      "cell_type": "markdown",
      "source": "## 3. 스트링(문자) 입력\ninput()은 모든 입력을 스트링으로 받는다."
    },
    {
      "metadata": {
        "trusted": true
      },
      "cell_type": "code",
      "source": "name=input('이름을 입력하시오 : ')",
      "execution_count": null,
      "outputs": []
    },
    {
      "metadata": {
        "collapsed": true
      },
      "cell_type": "markdown",
      "source": "# 연습문제\n1.  다음 두 코드의 가장 큰 차이는 무엇인가?\n> age=int(input())  \n> print(age*10) \n<hr>\n>age=30  \n>print(age*10)  \n\n\n2. 나이를 입력하면 몇년 후 100세가 되는지 알려주는 프로그램을 작성하시오.  \n\n3. 5개 과목의 점수를 입력하면 평균을 알려주는 프로그램을 작성하시오. "
    },
    {
      "metadata": {
        "trusted": true
      },
      "cell_type": "code",
      "source": "age=int(input('age? '))\nprint(100-age,\"년 후에 100세가 됩니다.\")\n\n#위의 코드를 한줄로 줄일 수 있을까?\nprint(100-int(input('age? ')),\"년 후에 100세가 됩니다.\")",
      "execution_count": null,
      "outputs": []
    },
    {
      "metadata": {
        "trusted": true
      },
      "cell_type": "code",
      "source": "kor=float(input(\"국어 점수 : \"))\neng=float(input(\"영어 점수 : \"))\nmath=float(input(\"수학 점수 : \"))\nso=float(input(\"사회 점수 : \"))\nsci=float(input(\"과학 점수 : \"))\n\nprint(\"평균점수는 \", (kor+eng+math+so+sci)/5, \"점 입니다\")",
      "execution_count": null,
      "outputs": []
    }
  ],
  "metadata": {
    "kernelspec": {
      "name": "python36",
      "display_name": "Python 3.6",
      "language": "python"
    },
    "language_info": {
      "mimetype": "text/x-python",
      "nbconvert_exporter": "python",
      "name": "python",
      "pygments_lexer": "ipython3",
      "version": "3.6.6",
      "file_extension": ".py",
      "codemirror_mode": {
        "version": 3,
        "name": "ipython"
      }
    }
  },
  "nbformat": 4,
  "nbformat_minor": 2
}