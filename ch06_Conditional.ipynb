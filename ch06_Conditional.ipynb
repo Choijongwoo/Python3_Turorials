{
 "cells": [
  {
   "cell_type": "markdown",
   "metadata": {
    "collapsed": true
   },
   "source": [
    "# Conditinal Execution\n",
    "* Boolean expressions ask a question and produce a `Yes` or `No` result which we use to control program flow.  \n",
    "* Boolean expressions using **comparison operators**  evaluate to - `True` / `False` - Yes / No  \n",
    "\n",
    "## Boolean Operations - and, or, not\n",
    "\n",
    "* Truth Table  \n",
    "T `or` T -> T,  T `and` T -> T  \n",
    "T `or` F -> T,  T `and` F -> F  \n",
    "F `or` T -> T,  F `and` T -> F  \n",
    "F `or` F -> F, F `and` F -> F  \n",
    "`not` True -> False  \n",
    "`not` False -> True  \n",
    "\n",
    "## 비교연산자(Comparison operator)  \n",
    "~~~\n",
    "< : less than\n",
    "<= : less than or equal\n",
    "> : greater than\n",
    ">= : greater than or equal\n",
    "== : equal\n",
    "!= : not equal\n",
    "is : object identity\n",
    "is not : negated object identity\n",
    "~~~"
   ]
  },
  {
   "cell_type": "code",
   "execution_count": null,
   "metadata": {},
   "outputs": [],
   "source": [
    "help(print)"
   ]
  },
  {
   "cell_type": "code",
   "execution_count": null,
   "metadata": {},
   "outputs": [],
   "source": [
    "print(3==3, 3 is 3, sep=',')\n",
    "print(3.1==3.1, 3.1 is 3.1, sep='/')\n",
    "print('a'=='a','a' is 'a', sep=',',end='\\n\\n')\n",
    "\n",
    "print([1]==[1],[1] is [1], sep=',')\n",
    "print((1,2)==(1,2),(1,2) is (1,2), sep=',')\n",
    "print({'a':'b'}=={'a':'b'},{'a':'b'} is {'a':'b'}, sep=',')"
   ]
  },
  {
   "cell_type": "code",
   "execution_count": null,
   "metadata": {},
   "outputs": [],
   "source": [
    "# (1)==(1), (1) is (1)\n",
    "\n",
    "print(type((1)),type((1,2)), type(('a')), type(('a','b'))) \n"
   ]
  },
  {
   "cell_type": "code",
   "execution_count": null,
   "metadata": {},
   "outputs": [],
   "source": [
    "a,b=3,3\n",
    "print(id(a),id(b), id(a)==id(b), a is b, sep=',')\n",
    "\n",
    "s1, s2='a','a'\n",
    "print(id(s1), id(s2), id(s1)==id(s2), s1 is s2, sep=',')\n",
    "\n",
    "L1,L2=[1],[1]\n",
    "print(id(L1),id(L2), id(L1)==id(L2), L1 is L2, sep=',')"
   ]
  },
  {
   "cell_type": "code",
   "execution_count": null,
   "metadata": {},
   "outputs": [],
   "source": [
    "a=3\n",
    "if a==3:\n",
    "    "
   ]
  },
  {
   "cell_type": "markdown",
   "metadata": {
    "collapsed": true
   },
   "source": [
    "## 1. if\n",
    "~~~\n",
    "if 조건문 :  \n",
    "    body\n",
    "~~~\n",
    "조건문의 (실행)결과가 True 이면 body 실행.  False이면 아무것도 안함.  \n",
    "`:` 을 안붙이면 문법오류  \n",
    "body에 쓸 수 있는 문장갯수는 무제한 but 적어도 문장 하나는 있어야 함.  특별한 문장이 없는 body를 만들 필요가 있을 때( 아직 작성하지 않는 코드가 들어갈 자리 표시용)  `pass` 를 사용"
   ]
  },
  {
   "cell_type": "code",
   "execution_count": null,
   "metadata": {},
   "outputs": [],
   "source": [
    "score=90\n",
    "\n",
    "if score>=90 :\n",
    "    pass\n",
    "    "
   ]
  },
  {
   "cell_type": "code",
   "execution_count": null,
   "metadata": {},
   "outputs": [],
   "source": [
    "x = 9\n",
    "\n",
    "if x < 10: \n",
    "    print('1')\n",
    "\n",
    "if x > 20:\n",
    "    print('2')\n",
    "else:\n",
    "    print('3')"
   ]
  },
  {
   "cell_type": "markdown",
   "metadata": {},
   "source": [
    "### 실습문제\n",
    "나이를 입력받아서 20세 미만이면 미성년, \n",
    "이상이면 성인 이라고 출력하시오."
   ]
  },
  {
   "cell_type": "code",
   "execution_count": null,
   "metadata": {},
   "outputs": [],
   "source": [
    "# 아래의 두개 프로그램이 동일할까요?\n",
    "#1\n",
    "age=int(input('나이를 입력하세요:'))\n",
    "if age<20:\n",
    "    print('미성년')\n",
    "else:\n",
    "    print('성인')\n",
    "\n",
    "#2\n",
    "age=int(input())\n",
    "if 0<=age<20:\n",
    "    print('미성년')\n",
    "elif age>=20:\n",
    "    print('성년')"
   ]
  },
  {
   "cell_type": "markdown",
   "metadata": {},
   "source": [
    "### python은 x>0 and x<3 을 0<x<3 으로 사용가능. 파이썬 스타일~\n",
    "```python\n",
    "x=3\n",
    "if 0<x<3 :\n",
    "   print “yes”\n",
    "else:\n",
    "\tprint “no”\n",
    "```"
   ]
  },
  {
   "cell_type": "markdown",
   "metadata": {},
   "source": [
    "### not() - bool값을 reverse 하는 함수\n",
    "```python\n",
    "print(not(True))\n",
    "print(not(False))\n",
    "print(not())  \n",
    "print(not(0))\n",
    "print(not(1))\n",
    "\n",
    "x=3\n",
    "print(not(x>4))\n",
    "```"
   ]
  },
  {
   "cell_type": "code",
   "execution_count": null,
   "metadata": {
    "scrolled": true
   },
   "outputs": [],
   "source": [
    "print(not(True))\n",
    "print(not(False))\n",
    "print(not())  \n",
    "print(not(0))\n",
    "print(not(1))\n",
    "\n",
    "x=3\n",
    "print(not(x>4))"
   ]
  },
  {
   "cell_type": "code",
   "execution_count": null,
   "metadata": {},
   "outputs": [],
   "source": [
    "public class JavaExample {\n",
    "\n",
    "    public static void main(String[] args) {\n",
    "        String str = \"BeginnersBook\";\n",
    "        int vcount = 0, ccount = 0;\n",
    "\n",
    "        //converting all the chars to lowercase\n",
    "        str = str.toLowerCase();\n",
    "        for(int i = 0; i < str.length(); i++) { \n",
    "            char ch = str.charAt(i); \n",
    "            if(ch == 'a' || ch == 'e' || ch == 'i' || ch == 'o' || ch == 'u') { \n",
    "                vcount++; \n",
    "            } \n",
    "            else if((ch >= 'a'&& ch <= 'z')) {\n",
    "                ccount++;\n",
    "            }\n",
    "        }\n",
    "        System.out.println(\"Number of Vowels: \" + vcount);\n",
    "        System.out.println(\"Number of Consonants: \" + ccount);\n",
    "    }\n",
    "}"
   ]
  },
  {
   "cell_type": "code",
   "execution_count": null,
   "metadata": {},
   "outputs": [],
   "source": [
    "a=3\n",
    "b=3\n",
    "c=3\n",
    "\n",
    "\n",
    "if a==3:\n",
    "    c=8\n",
    "    c=2\n",
    "    c=3\n",
    "    a=4\n",
    "    b=2\n",
    "print(a+b)"
   ]
  },
  {
   "cell_type": "markdown",
   "metadata": {
    "collapsed": true
   },
   "source": [
    "## 2. indentation\n",
    "C나 Java같은 언어는 block의 시작과 끝을 나타내기 위해 명시적 기호 ** `{` ,` }` ** 를 사용한다.  \n",
    "python에서는 기호 대신 ** `indentation(들여쓰기)` ** 을 사용한다.  \n",
    "indentation이 중요한 이유는 indentation이 ** `block`** 을 만들기 때문이다.  \n",
    "indentation은 다음의 세가지가 있다.  \n",
    "\n",
    "* <font color=blue><b>Increase</b></font> indent indent after an if statement or for statement (<font color=red><b>after : </b></font>)  \n",
    "* <font color=blue><b>Maintain</b></font> indent to indicate <font color=red><b>the scope of the block</b></font> (which lines are affected by the if/for)  \n",
    "* <font color=blue><b>Reduce</b></font> indent back to the level of the if statement or for statement to indicate the <font color=red><b>end of the block</b></font>  \n",
    "\n",
    "Blank lines are ignored - they do not affect indentation  \n",
    "Comments on a line by themselves are ignored with regard to  indentation  \n",
    "\n",
    "<img src=\"https://notebooks.azure.com/yanemone/projects/python3-tutorials/raw/img%2Findentation.png\" width=\"40%\" align=\"left\">\n"
   ]
  },
  {
   "cell_type": "code",
   "execution_count": null,
   "metadata": {},
   "outputs": [],
   "source": [
    "#enter 유지\n",
    "\n",
    "if a==b : # :이 증가\n",
    "\n",
    "# backspace 감소"
   ]
  },
  {
   "cell_type": "markdown",
   "metadata": {},
   "source": [
    "#### 다음의 first, second 코드를 비교해 보면서 block의 개념에 대해 이해"
   ]
  },
  {
   "cell_type": "code",
   "execution_count": null,
   "metadata": {},
   "outputs": [],
   "source": [
    "# first case\n",
    "num=1\n",
    "\n",
    "if num == 1:\n",
    "    print('line#1')\n",
    "    print('line#2')\n",
    "    print('line#3')\n",
    "\n",
    "if num != 1:\n",
    "    print('line#4')\n",
    "    print('line#5')\n",
    "    print('line#6')\n",
    "   "
   ]
  },
  {
   "cell_type": "code",
   "execution_count": null,
   "metadata": {},
   "outputs": [],
   "source": [
    "# second case\n",
    "num=1\n",
    "\n",
    "if num == 1: \n",
    "    print('line#1')\n",
    "    print('line#2')\n",
    "print('line#3')\n",
    "\n",
    "if num != 1:\n",
    "    print('line#4')\n",
    "    print('line#5')\n",
    "print('line#6')"
   ]
  },
  {
   "cell_type": "code",
   "execution_count": null,
   "metadata": {},
   "outputs": [],
   "source": [
    "# 블럭 개념 이해 확인용\n",
    "# 아래의 실행결과는? 선짐작! 후실행!\n",
    "\n",
    "num=2\n",
    "mysum=0\n",
    "\n",
    "if num == 2:\n",
    "    mysum += num # mysum = mysum + num \n",
    "    mysum -= num # mysum = mysum - num \n",
    "mysum += num  # \n",
    "\n",
    "print(mysum) #"
   ]
  },
  {
   "cell_type": "markdown",
   "metadata": {},
   "source": [
    "#### 다음 두 프로그램을 block의 관점에서 비교해보자"
   ]
  },
  {
   "cell_type": "code",
   "execution_count": null,
   "metadata": {},
   "outputs": [],
   "source": [
    "# another block example\n",
    "# 다음 프로그램의 실행결과를 짐작해 보자\n",
    "\n",
    "n = 5\n",
    "while n > 0 :\n",
    "    print(n)\n",
    "    n=n-1  # n -= 1 이라고 해도 된다\n",
    "print('Blastoff!')"
   ]
  },
  {
   "cell_type": "code",
   "execution_count": null,
   "metadata": {},
   "outputs": [],
   "source": [
    "# another block example\n",
    "# 다음 프로그램의 실행결과를 짐작해 보자\n",
    "\n",
    "n = 5\n",
    "while n > 0 :\n",
    "    print(n)\n",
    "    n=n-1  # n -= 1 이라고 해도 된다\n",
    "    print('Blastoff!')"
   ]
  },
  {
   "cell_type": "markdown",
   "metadata": {
    "collapsed": true
   },
   "source": [
    "## 3. nested decisions\n",
    "중첩 if  \n",
    "if 안에 if 가능.   \n",
    "제한없이 사용가능하나 너무 depth가 깊으면 프로그래머가 혼란."
   ]
  },
  {
   "cell_type": "code",
   "execution_count": null,
   "metadata": {},
   "outputs": [],
   "source": [
    "# nested decisions의 예제\n",
    "\n",
    "x = 42\n",
    "if x > 1 :\n",
    "    print('More than one')\n",
    "    if x < 100 : \n",
    "        print('Less than 100')"
   ]
  },
  {
   "cell_type": "code",
   "execution_count": null,
   "metadata": {},
   "outputs": [],
   "source": [
    "# nested decisions의 예제\n",
    "\n",
    "if x==y:\n",
    "    print('x and y are equal')\n",
    "else :\n",
    "    if x<y :\n",
    "        print('x is less then y')\n",
    "    else:\n",
    "        print('x is greater than y')"
   ]
  },
  {
   "cell_type": "markdown",
   "metadata": {},
   "source": [
    "#### 중첩 조건문은 readablity가 떨어진다. \n",
    "가능하면 쓰지 않는게 좋다. 논리 연산자를 사용해서 간단하게 바꿀 수 있다.  \n",
    "```python\n",
    "if x>0 :\n",
    "    if x<10 :\n",
    "        print('x는 한 자릿수 양수')\n",
    "```       \n",
    "다음과 같이 쓰는게 더 좋다.  \n",
    "```python\n",
    "if 0<x<10 :  # 또는 x>0 and x<10 \n",
    "        print('x는 한 자릿수 양수')\n",
    "```       "
   ]
  },
  {
   "cell_type": "markdown",
   "metadata": {
    "collapsed": true
   },
   "source": [
    "## 4. if, else\n",
    "**else는 단독으로 사용할 수 없다.** 즉 동일 indentation에 if 또는 if-elif가 있어야 한다."
   ]
  },
  {
   "cell_type": "code",
   "execution_count": null,
   "metadata": {},
   "outputs": [],
   "source": [
    "x = 4\n",
    "\n",
    "if x > 2 :\n",
    "    print('Bigger')\n",
    "else :\n",
    "    print('Smaller')"
   ]
  },
  {
   "cell_type": "markdown",
   "metadata": {
    "collapsed": true
   },
   "source": [
    "## 5. if, elif, else\n",
    "Below is a simple example that demonstrates the Python syntax for an if-else control statement.   \n",
    "For a value assigned to a variable `x`, the program prints a message and modifies `x`.    \n",
    "The message and the modification of `x` depend on the initial value of `x`:  "
   ]
  },
  {
   "cell_type": "code",
   "execution_count": null,
   "metadata": {},
   "outputs": [],
   "source": [
    "# 마지막에 출력되는 x의 값은 얼마일까?\n",
    "\n",
    "x = 0  # Initial x value\n",
    "\n",
    "if x > 0:  \n",
    "    x -= 1\n",
    "elif x < 0:  #  else if의 의미\n",
    "    x += 1\n",
    "else: \n",
    "    x *= 2\n",
    "\n",
    "# Print new x value\n",
    "print(\"New x value: \",x)\n",
    "print(\"New x value: {0}\".format(x))"
   ]
  },
  {
   "cell_type": "markdown",
   "metadata": {},
   "source": [
    "# 연습문제\n",
    "\n",
    "1.다음 코드에 오류가 있을까? 있다면 어디서 왜?  \n",
    "\n",
    "```python\n",
    "if True:\n",
    "    pass\n",
    "if True:\n",
    "    pass\n",
    "else :\n",
    "    pass  \n",
    "```"
   ]
  },
  {
   "cell_type": "markdown",
   "metadata": {},
   "source": [
    "2. 다음 코드에 오류가 있을까? 있다면 어디서 왜?  \n",
    "```python\n",
    "if True:\n",
    "    pass\n",
    "if True:\n",
    "    pass\n",
    "    else :\n",
    "        pass\n",
    "```"
   ]
  },
  {
   "cell_type": "markdown",
   "metadata": {},
   "source": [
    "3. 다음 두 코드의 차이점을 말해 보시오.\n",
    "```python\n",
    "score=95\n",
    "if score >= 90:\n",
    "    grade='A'\n",
    "if 80 <= score < 90 :\n",
    "    grade = 'B'\n",
    "if 70 <= score < 80 :\n",
    "    grade = 'C'\n",
    "if score < 70 :\n",
    "    grade = 'D'\n",
    "print(grade)\n",
    "```\n",
    "<hr>\n",
    "```python\n",
    "score=95\n",
    "if score >= 90:\n",
    "    grade='A'\n",
    "elif 80 <= score < 90 :\n",
    "    grade = 'B'\n",
    "elif 70 <= score < 80 :\n",
    "    grade = 'C'\n",
    "else:\n",
    "    grade = 'D'\n",
    "print(grade)\n",
    "```"
   ]
  },
  {
   "cell_type": "markdown",
   "metadata": {},
   "source": [
    "4. 정수 한 개를 입력받아서, 그 수가 3의 배수인지 판단하는 프로그램을 작성하시오."
   ]
  },
  {
   "cell_type": "markdown",
   "metadata": {},
   "source": [
    "5. 사용자로부터 세 개의 정수를 입력받아, 그 수들의 최대값과 최소값, 합계와 평균을 구해보자.  \n",
    "  - Ver1 : 내장함수 사용하지 않고 작성. \n",
    "  - Ver2 : 내장함수 사용해서 작성.  \n",
    "~~~python\n",
    "a,b,c=map(int, input('세개의 정수를 입력하세요 : ').split())\n",
    "~~~"
   ]
  },
  {
   "cell_type": "code",
   "execution_count": null,
   "metadata": {},
   "outputs": [],
   "source": [
    "\n",
    "\n",
    "\n",
    "\n",
    "\n",
    "\n",
    "\n",
    "\n",
    "\n",
    "\n",
    "\n",
    "#Ver1 Without built-in\n",
    "\n",
    "a,b,c=map(int, input(\"정수 3개 : \").split())\n",
    "\n",
    "if a>=b:\n",
    "    _max, _min=a,b # _max처럼 _를 붙인 이유는 무엇일까?\n",
    "else:\n",
    "    _max, _min=b,a\n",
    "    \n",
    "if c>_max:\n",
    "    _max=c\n",
    "if c<_min:\n",
    "    _min=c\n",
    "    \n",
    "print(\"최대값은 {0}, 최소값은 {1}, 총합은 {2}, 평균은 {3}\".format(_max,_min,sum((a,b,c)), sum((a,b,c))/3))"
   ]
  },
  {
   "cell_type": "code",
   "execution_count": null,
   "metadata": {
    "scrolled": true
   },
   "outputs": [],
   "source": [
    "#Ver2 With Built-in\n",
    "\n",
    "a,b,c=map(int, input(\"정수 3개 : \").split())\n",
    "print(\"최대값은 {0}, 최소값은 {1}, 총합은 {2}, 평균은 {3}\".format(max(a,b,c),min(a,b,c), sum((a,b,c)), sum((a,b,c))/3))"
   ]
  }
 ],
 "metadata": {
  "kernelspec": {
   "display_name": "Python 3.6",
   "language": "python",
   "name": "python36"
  },
  "language_info": {
   "codemirror_mode": {
    "name": "ipython",
    "version": 3
   },
   "file_extension": ".py",
   "mimetype": "text/x-python",
   "name": "python",
   "nbconvert_exporter": "python",
   "pygments_lexer": "ipython3",
   "version": "3.6.6"
  }
 },
 "nbformat": 4,
 "nbformat_minor": 2
}
