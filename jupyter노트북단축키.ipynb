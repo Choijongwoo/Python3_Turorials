{
  "cells": [
    {
      "metadata": {
        "collapsed": true
      },
      "cell_type": "markdown",
      "source": "## 가장 많이 사용하는 마크다운 문법\n마크다운 문법 (https://post.naver.com/viewer/postView.nhn?volumeNo=16304568)\n\n### 1. 마크다운(markdown)이란?\n문서 기술에 대한 서식을 정한 \"경량 마크업 언어\"중의 한 종류.<br>\n특히 서식이 간단하고 알기 쉬워서 많은 툴이나 서비스에서 채용<br>\nJupyter Notebook은 그 중에서 GitHub Flavored Markdown(GFM)을 채용(GitHub가 주체가 되어 사양을 책정한 기법, 사실상 표준)\n<hr>\n### 2. 개행하는 방법  \n`1) html 코드인 <br> 을 사용  \n 2)문장의 끝에서 space bar를 두번 이상`\n<hr>\n### 3. 헤더(Header)\n~~~\n# 헤더 크기(H1)\n## 헤더 크기(H2)\n### 헤더 크기(H3)\n#### 헤더 크기(H4)\n##### 헤더 크기(H5)\n###### 헤더 크기(H6) \n~~~\n# 헤더 크기(H1)\n## 헤더 크기(H2)\n### 헤더 크기(H3)\n#### 헤더 크기(H4)\n##### 헤더 크기(H5)\n###### 헤더 크기(H6) \n<hr>\n### 4. 목록(Lists)\n<pre>\n  \n1. 1번  \n2. 2번  \n3. 3번  \n</pre>\n\n\n> 1. 1번  <br>\n> 2. 2번  <br>\n> 3. 3번  <br>\n\n<pre>\n\n\n* 1번  \n    * 2번  \n        * 3번  \n</pre>\n\n> * 1번  \n>    * 2번  \n>        * 3번  \n\n\n<pre>\n\n\n+ 1번\n    + 2번\n        + 3번\n</pre>\n\n> + 1번\n>    + 2번\n>        + 3번\n\n<pre>   \n\n\n- 1번\n    - 2번\n        - 3번\n</pre>\n\n> - 1번\n>    - 2번\n>        - 3번\n\n\n <hr>\n ### 5. 수평라인 그리기\n ` <hr> `\n<hr>\n         \n### 6. 인용구\n<pre>\n> hafs\n>> hafs\n>> *hafs\n>>> * hafs\n</pre>\n\n> hafs  \n>> hafs  \n>> *hafs  \n>>> *hafs  \n\n### 7. `<pre> <code>` 로 코드 표현하기\n~~~\n<pre> \nfor i in range(3):\n    print(i)\n</pre>\n~~~\n> <pre> for i in range(3):\n>      print(i) </pre>\n\n~~~\n<code> \nfor i in range(3):\n    print(i)\n</code>\n~~~\n\n>  <code> for i in range(3):\n>    print(i)</code>\n\n~~~\n<pre><code> \nfor i in range(3):\n    print(i)\n</code></pre>\n~~~\n\n> <pre><code> for i in range(3):\n>     print(i)</code></pre>\n\n### 8. 링크(link)\n~~~\n[google](http://google.com)  \n<http://google.com>\n~~~\n> [google](http://google.com)  \n> <http://google.com>\n\n\n### 9. 강조(진하게, 기울기, 취소선)\n~~~\n*single asterisks*  \n_single underscores_  \n**double astersks**  \n__double underscores__  \n~~canceline~~  \n~~~\n> *single asterisks*  \n> _single underscores_  \n> **double astersks**  \n> __double underscores__  \n> ~~canceline~~  \n\n### 10. 이미지 삽입\n~~~\n![이미지 이름](이미지 url)\n<img src=\"url\" width=\"원하는 size\">\n~~~\n>  ![python logo](https://www.python.org/static/img/python-logo@2x.png )\n\n\n## jupyter notobook 단축키\n\n### Command Mode\n1. `enter` :  편집모드로 변경, `ESC` : command mode로 변경\n2. `Shift-Enter` : 현재 cell 실행 후 다음 cell로 이동\n3. `Ctrl-Enter` : 현재 cell실행 \n4. `m` : 현재 cell을 markdown으로 변경, `y` : 현재 cell을 code로 변경\n5. `k` : 바로 위의 cell로 이동, `j` : 바로 아래의 cell로 이동\n6. `a` : 바로 위에 cell 삽입, `b` : 바로 아래에 cell 삽입\n7. `x` : cell 잘라내기, `c` : cell 복사, `Shift-v` : 바로위에 cell 붙여넣기, `v` : 바로아래ㅇ\n7. `dd` : 현재 cell 삭제\n8. `x` : cut cell,  `c` : copy cell,   `v` : paste cell below,  `Shift-v` : paste cell above\n9. `l(소문자 엘)` : toggle line numbers\n10. `h` : 단축키 보기"
    }
  ],
  "metadata": {
    "kernelspec": {
      "name": "python36",
      "display_name": "Python 3.6",
      "language": "python"
    },
    "language_info": {
      "mimetype": "text/x-python",
      "nbconvert_exporter": "python",
      "name": "python",
      "pygments_lexer": "ipython3",
      "version": "3.6.6",
      "file_extension": ".py",
      "codemirror_mode": {
        "version": 3,
        "name": "ipython"
      }
    }
  },
  "nbformat": 4,
  "nbformat_minor": 2
}